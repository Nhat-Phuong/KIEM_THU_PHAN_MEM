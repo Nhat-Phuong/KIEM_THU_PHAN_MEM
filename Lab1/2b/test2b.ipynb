{
 "cells": [
  {
   "cell_type": "code",
   "execution_count": 1,
   "id": "8b77bcea",
   "metadata": {},
   "outputs": [],
   "source": [
    "!g++ bai2b.cpp -o bai2b"
   ]
  },
  {
   "cell_type": "code",
   "execution_count": 3,
   "id": "c0095bf0",
   "metadata": {},
   "outputs": [
    {
     "name": "stdout",
     "output_type": "stream",
     "text": [
      "-6\n",
      "0\n"
     ]
    },
    {
     "name": "stdout",
     "output_type": "stream",
     "text": [
      "-5\n",
      "-10\n",
      "22\n"
     ]
    }
   ],
   "source": [
    "# Test-case 1: x = -3 (BUG xuất hiện)\n",
    "!echo \"-3\" | ./bai2b   # Mong đợi: 3 ; Thực tế: -6\n",
    "\n",
    "# Test-case 2: x = 0 (BUG xuất hiện)\n",
    "!echo \"0\" | ./bai2b    # Mong đợi: 0 ; Thực tế: 0 (không thấy lỗi vì -0 = 0, nhưng vẫn thuộc nhánh sai)\n",
    "\n",
    "# Test-case 3: x = 5 (nhánh else if, đúng)\n",
    "!echo \"5\" | ./bai2b    # Mong đợi: -5 ; Thực tế: -5\n",
    "\n",
    "# Test-case 4: x = 10 (biên else if, đúng)\n",
    "!echo \"10\" | ./bai2b   # Mong đợi: -10 ; Thực tế: -10\n",
    "\n",
    "# Test-case 5: x = 11 (nhánh if, đúng)\n",
    "!echo \"11\" | ./bai2b   # Mong đợi: 22 ; Thực tế: 22"
   ]
  }
 ],
 "metadata": {
  "kernelspec": {
   "display_name": "Python 3 (ipykernel)",
   "language": "python",
   "name": "python3"
  },
  "language_info": {
   "codemirror_mode": {
    "name": "ipython",
    "version": 3
   },
   "file_extension": ".py",
   "mimetype": "text/x-python",
   "name": "python",
   "nbconvert_exporter": "python",
   "pygments_lexer": "ipython3",
   "version": "3.12.1"
  }
 },
 "nbformat": 4,
 "nbformat_minor": 5
}
