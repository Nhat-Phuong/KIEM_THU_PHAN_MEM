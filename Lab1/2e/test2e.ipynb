{
 "cells": [
  {
   "cell_type": "code",
   "execution_count": 1,
   "id": "7a44025a",
   "metadata": {},
   "outputs": [],
   "source": [
    "!g++ bai2e.cpp -o bai2e"
   ]
  },
  {
   "cell_type": "code",
   "execution_count": 2,
   "id": "6ec16d6a",
   "metadata": {},
   "outputs": [
    {
     "name": "stdout",
     "output_type": "stream",
     "text": [
      "10\n",
      "10\n",
      "10\n",
      "0\n",
      "0\n",
      "0\n",
      "0\n",
      "-2\n"
     ]
    }
   ],
   "source": [
    "# ---- Test cases ----\n",
    "# Trường hợp 1: num1 lớn nhất\n",
    "!echo \"10 5 2\" | ./bai2e\n",
    "\n",
    "# Trường hợp 2: num2 lớn nhất\n",
    "!echo \"5 10 2\" | ./bai2e\n",
    "\n",
    "# Trường hợp 3: num3 lớn nhất\n",
    "!echo \"5 2 10\" | ./bai2e\n",
    "\n",
    "# Trường hợp 4: num1 = num2 > num3  (BUG: trả về 0 thay vì 10)\n",
    "!echo \"10 10 5\" | ./bai2e\n",
    "\n",
    "# Trường hợp 5: num1 = num3 > num2  (BUG: trả về 0 thay vì 10)\n",
    "!echo \"10 5 10\" | ./bai2e\n",
    "\n",
    "# Trường hợp 6: num2 = num3 > num1  (BUG: trả về 0 thay vì 10)\n",
    "!echo \"5 10 10\" | ./bai2e\n",
    "\n",
    "# Trường hợp 7: cả 3 số bằng nhau  (BUG: trả về 0 thay vì 7)\n",
    "!echo \"7 7 7\" | ./bai2e\n",
    "\n",
    "# Trường hợp 8: tất cả số âm, max < 0 (BUG nếu max = 0 mặc định)\n",
    "!echo \"-5 -2 -10\" | ./bai2e"
   ]
  }
 ],
 "metadata": {
  "kernelspec": {
   "display_name": "Python 3 (ipykernel)",
   "language": "python",
   "name": "python3"
  },
  "language_info": {
   "codemirror_mode": {
    "name": "ipython",
    "version": 3
   },
   "file_extension": ".py",
   "mimetype": "text/x-python",
   "name": "python",
   "nbconvert_exporter": "python",
   "pygments_lexer": "ipython3",
   "version": "3.12.1"
  }
 },
 "nbformat": 4,
 "nbformat_minor": 5
}
