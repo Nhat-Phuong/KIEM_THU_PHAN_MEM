{
 "cells": [
  {
   "cell_type": "code",
   "execution_count": 1,
   "id": "9f357d51",
   "metadata": {},
   "outputs": [],
   "source": [
    "!g++ bai2c.cpp -o bai2c"
   ]
  },
  {
   "cell_type": "code",
   "execution_count": 2,
   "id": "3ae28e00",
   "metadata": {},
   "outputs": [
    {
     "name": "stdout",
     "output_type": "stream",
     "text": [
      "10\n",
      "20\n"
     ]
    }
   ],
   "source": [
    "# Test-case 1: x = 5 (nhỏ hơn 10)\n",
    "!echo \"5\" | ./bai2c    # Output: 10\n",
    "\n",
    "# Test-case 2: x = 10 (lớn hơn hoặc bằng 10)\n",
    "!echo \"10\" | ./bai2c   # Output: 20"
   ]
  }
 ],
 "metadata": {
  "kernelspec": {
   "display_name": "Python 3 (ipykernel)",
   "language": "python",
   "name": "python3"
  },
  "language_info": {
   "codemirror_mode": {
    "name": "ipython",
    "version": 3
   },
   "file_extension": ".py",
   "mimetype": "text/x-python",
   "name": "python",
   "nbconvert_exporter": "python",
   "pygments_lexer": "ipython3",
   "version": "3.12.1"
  }
 },
 "nbformat": 4,
 "nbformat_minor": 5
}
