{
 "cells": [
  {
   "cell_type": "code",
   "execution_count": 1,
   "id": "e38d779b",
   "metadata": {},
   "outputs": [],
   "source": [
    "!g++ 3.cpp -o 3"
   ]
  },
  {
   "cell_type": "code",
   "execution_count": 3,
   "id": "466fe9ec",
   "metadata": {},
   "outputs": [
    {
     "name": "stdout",
     "output_type": "stream",
     "text": [
      "Infinite solutions.\n",
      "No solution.\n"
     ]
    },
    {
     "name": "stdout",
     "output_type": "stream",
     "text": [
      "The equation has 2 real solution(s): 2 -2 \n",
      "The equation has 2 real solution(s): 1.41421 -1.41421 \n",
      "No solution.\n",
      "The equation has 4 real solution(s): 2 -2 1 -1 \n",
      "No solution.\n",
      "The equation has 2 real solution(s): 1 -1 \n"
     ]
    }
   ],
   "source": [
    "# ---- Test Cases ----\n",
    "!echo \"0 0 0\" | ./3       # Case 1: vô số nghiệm\n",
    "!echo \"0 0 5\" | ./3       # Case 2: vô nghiệm\n",
    "!echo \"0 2 -8\" | ./3      # Case 3: nghiệm ±2\n",
    "!echo \"1 0 -4\" | ./3      # Case 4: 4 nghiệm ±√2\n",
    "!echo \"1 0 4\" | ./3       # Case 5: vô nghiệm\n",
    "!echo \"1 -5 4\" | ./3      # Case 6: nghiệm ±2, ±1\n",
    "!echo \"1 2 1\" | ./3       # Case 7: delta=0 nhưng nghiệm âm\n",
    "!echo \"1 -2 1\" | ./3      # Case 8: nghiệm ±1"
   ]
  }
 ],
 "metadata": {
  "kernelspec": {
   "display_name": "Python 3 (ipykernel)",
   "language": "python",
   "name": "python3"
  },
  "language_info": {
   "codemirror_mode": {
    "name": "ipython",
    "version": 3
   },
   "file_extension": ".py",
   "mimetype": "text/x-python",
   "name": "python",
   "nbconvert_exporter": "python",
   "pygments_lexer": "ipython3",
   "version": "3.12.1"
  }
 },
 "nbformat": 4,
 "nbformat_minor": 5
}
