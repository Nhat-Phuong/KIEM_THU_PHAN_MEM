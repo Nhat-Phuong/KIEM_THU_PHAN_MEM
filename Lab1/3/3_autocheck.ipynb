{
 "cells": [
  {
   "cell_type": "code",
   "execution_count": 5,
   "id": "2883e923",
   "metadata": {},
   "outputs": [],
   "source": [
    "!g++ 3_autocheck.cpp -o 3_autocheck"
   ]
  },
  {
   "cell_type": "code",
   "execution_count": 6,
   "id": "92ccbae3",
   "metadata": {},
   "outputs": [
    {
     "name": "stdout",
     "output_type": "stream",
     "text": [
      "[PASS] a=b=c=0 → vô số nghiệm\n",
      "[PASS] a=b=0,c≠0 → vô nghiệm\n",
      "[PASS] a=0,b=1,c=-4 → x=±2\n",
      "[PASS] x^4+1=0 → vô nghiệm thực\n",
      "[PASS] x^4 - 5x^2 + 4=0 → (x=±1,±2)\n",
      "[PASS] x^4=0 → nghiệm kép x=0\n",
      "\n",
      "Summary: 6 passed, 0 failed.\n"
     ]
    }
   ],
   "source": [
    "!./3_autocheck"
   ]
  }
 ],
 "metadata": {
  "kernelspec": {
   "display_name": "Python 3 (ipykernel)",
   "language": "python",
   "name": "python3"
  }
 },
 "nbformat": 4,
 "nbformat_minor": 5
}
