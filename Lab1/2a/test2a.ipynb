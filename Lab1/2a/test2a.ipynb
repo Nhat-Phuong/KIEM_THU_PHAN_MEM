{
 "cells": [
  {
   "cell_type": "code",
   "execution_count": 1,
   "id": "b507cb7e",
   "metadata": {},
   "outputs": [],
   "source": [
    "!g++ bai2a.cpp -o bai2a"
   ]
  },
  {
   "cell_type": "code",
   "execution_count": 3,
   "id": "16ea8da9",
   "metadata": {},
   "outputs": [
    {
     "name": "stdout",
     "output_type": "stream",
     "text": [
      "3\n"
     ]
    },
    {
     "name": "stdout",
     "output_type": "stream",
     "text": [
      "0\n",
      "-10\n",
      "22\n",
      "40\n"
     ]
    }
   ],
   "source": [
    "\n",
    "# Test-case 1: x = -3 (nhánh else, âm số)\n",
    "!echo \"-3\" | ./bai2a\n",
    "\n",
    "# Test-case 2: x = 0 (nhánh else, biên số không)\n",
    "!echo \"0\" | ./bai2a\n",
    "\n",
    "# Test-case 3: x = 10 (biên else, đúng ngưỡng 10)\n",
    "!echo \"10\" | ./bai2a\n",
    "\n",
    "# Test-case 4: x = 11 (nhánh if, ngay sau ngưỡng)\n",
    "!echo \"11\" | ./bai2a\n",
    "\n",
    "# Test-case 5: x = 20 (nhánh if, giá trị lớn hơn hẳn)\n",
    "!echo \"20\" | ./bai2a"
   ]
  }
 ],
 "metadata": {
  "kernelspec": {
   "display_name": "Python 3 (ipykernel)",
   "language": "python",
   "name": "python3"
  },
  "language_info": {
   "codemirror_mode": {
    "name": "ipython",
    "version": 3
   },
   "file_extension": ".py",
   "mimetype": "text/x-python",
   "name": "python",
   "nbconvert_exporter": "python",
   "pygments_lexer": "ipython3",
   "version": "3.12.1"
  }
 },
 "nbformat": 4,
 "nbformat_minor": 5
}
